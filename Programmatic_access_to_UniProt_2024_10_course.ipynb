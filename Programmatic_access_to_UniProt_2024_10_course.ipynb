{
  "nbformat": 4,
  "nbformat_minor": 0,
  "metadata": {
    "colab": {
      "provenance": [],
      "include_colab_link": true
    },
    "kernelspec": {
      "name": "python3",
      "display_name": "Python 3"
    },
    "language_info": {
      "name": "python"
    }
  },
  "cells": [
    {
      "cell_type": "markdown",
      "metadata": {
        "id": "view-in-github",
        "colab_type": "text"
      },
      "source": [
        "<a href=\"https://colab.research.google.com/github/ErickArtola/AboutMe/blob/main/Programmatic_access_to_UniProt_2024_10_course.ipynb\" target=\"_parent\"><img src=\"https://colab.research.google.com/assets/colab-badge.svg\" alt=\"Open In Colab\"/></a>"
      ]
    },
    {
      "cell_type": "markdown",
      "source": [
        "# Programmatic access to UniProt (2024-10)"
      ],
      "metadata": {
        "id": "8yfH8c2hH6zn"
      }
    },
    {
      "cell_type": "markdown",
      "metadata": {
        "id": "gPKPP2AB4Oto"
      },
      "source": [
        "# Basic setup"
      ]
    },
    {
      "cell_type": "code",
      "metadata": {
        "id": "xMmq9GVxzmWl"
      },
      "source": [
        "import sys\n",
        "import json\n",
        "import requests\n",
        "from prettytable import PrettyTable\n",
        "\n",
        "# Documentation: https://www.uniprot.org/help/api\n",
        "WEBSITE_API = \"https://rest.uniprot.org/\"\n",
        "\n",
        "# Documentation: https://www.ebi.ac.uk/proteins/api/doc/\n",
        "PROTEINS_API = \"https://www.ebi.ac.uk/proteins/api\"\n",
        "\n",
        "# Helper function to download data\n",
        "def get_url(url, **kwargs):\n",
        "  response = requests.get(url, **kwargs);\n",
        "\n",
        "  if not response.ok:\n",
        "    print(response.text)\n",
        "    response.raise_for_status()\n",
        "    sys.exit()\n",
        "\n",
        "  return response"
      ],
      "execution_count": null,
      "outputs": []
    },
    {
      "cell_type": "markdown",
      "metadata": {
        "id": "GhDjpTza4WOD"
      },
      "source": [
        "# Basic search request"
      ]
    },
    {
      "cell_type": "code",
      "metadata": {
        "id": "fBpHl-UU1C3t",
        "colab": {
          "base_uri": "https://localhost:8080/"
        },
        "outputId": "c5941c1a-9b92-4ed7-a002-77a785dd7e64"
      },
      "source": [
        "r = get_url(f\"{WEBSITE_API}/uniprotkb/search?query=*\")\n",
        "\n",
        "data = r.json()\n",
        "\n",
        "# print the number of results in the payload\n",
        "n_results = len(data[\"results\"])\n",
        "print(f\"Number of results: {n_results}\\n\")\n",
        "\n",
        "# print all headers in the server response\n",
        "table = PrettyTable()\n",
        "headers = dict(sorted(r.headers.items()))\n",
        "table.add_column(\"Header\", list(headers.keys()))\n",
        "table.add_column(\"Value\", list(headers.values()))\n",
        "table.align = \"l\"\n",
        "print(table)"
      ],
      "execution_count": null,
      "outputs": [
        {
          "output_type": "stream",
          "name": "stdout",
          "text": [
            "Number of results: 25\n",
            "\n",
            "+----------------------------------+-----------------------------------------------------------------------------------------------------------------------+\n",
            "| Header                           | Value                                                                                                                 |\n",
            "+----------------------------------+-----------------------------------------------------------------------------------------------------------------------+\n",
            "| Accept-Ranges                    | bytes                                                                                                                 |\n",
            "| Access-Control-Allow-Credentials | true                                                                                                                  |\n",
            "| Access-Control-Allow-Headers     | DNT,Keep-Alive,User-Agent,X-Requested-With,If-Modified-Since,Cache-Control,Content-Type,Range,Authorization           |\n",
            "| Access-Control-Allow-Methods     | GET, PUT, POST, DELETE, PATCH, OPTIONS                                                                                |\n",
            "| Access-Control-Allow-Origin      | *                                                                                                                     |\n",
            "| Access-Control-Expose-Headers    | Link, X-Total-Results, X-UniProt-Release, X-UniProt-Release-Date, X-API-Deployment-Date                               |\n",
            "| Access-Control-Max-Age           | 1728000                                                                                                               |\n",
            "| Cache-Control                    | public, max-age=43200                                                                                                 |\n",
            "| Connection                       | keep-alive                                                                                                            |\n",
            "| Content-Encoding                 | gzip                                                                                                                  |\n",
            "| Content-Length                   | 177343                                                                                                                |\n",
            "| Content-Type                     | application/json                                                                                                      |\n",
            "| Date                             | Thu, 31 Oct 2024 15:12:26 GMT                                                                                         |\n",
            "| Link                             | <https://rest.uniprot.org/uniprotkb/search?query=%2A&cursor=1mkycb2xwxboutz9vxsrythhxqdlnn7hw75d&size=25>; rel=\"next\" |\n",
            "| Strict-Transport-Security        | max-age=31536000; includeSubDomains                                                                                   |\n",
            "| Vary                             | accept,accept-encoding,x-uniprot-release,x-api-deployment-date, User-Agent                                            |\n",
            "| X-API-Deployment-Date            | 02-October-2024                                                                                                       |\n",
            "| X-Total-Results                  | 248838887                                                                                                             |\n",
            "| X-UniProt-Release                | 2024_05                                                                                                               |\n",
            "| X-UniProt-Release-Date           | 02-October-2024                                                                                                       |\n",
            "| x-cache                          | hit cached                                                                                                            |\n",
            "+----------------------------------+-----------------------------------------------------------------------------------------------------------------------+\n"
          ]
        }
      ]
    },
    {
      "cell_type": "markdown",
      "source": [
        "*Back to \"search query format\" slide*"
      ],
      "metadata": {
        "id": "1tqTvH310u3k"
      }
    },
    {
      "cell_type": "markdown",
      "metadata": {
        "id": "1-OUuEJN6sqG"
      },
      "source": [
        "# Complex search request, paginated results"
      ]
    },
    {
      "cell_type": "code",
      "metadata": {
        "id": "66wNk17r6wCG",
        "colab": {
          "base_uri": "https://localhost:8080/"
        },
        "outputId": "02e90436-8891-414c-b5fa-167014ce4f09"
      },
      "source": [
        "# Search for gene parkin, in human\n",
        "url = f\"{WEBSITE_API}/uniprotkb/search?query=Parkin AND (taxonomy_id:9606)\"\n",
        "\n",
        "# while there are next pages, paginate through them\n",
        "tally = 0\n",
        "while url:\n",
        "  r = get_url(url)\n",
        "  data = r.json()\n",
        "  total = r.headers.get(\"x-total-results\")\n",
        "  tally += len(data[\"results\"])\n",
        "  print(f\"{tally:<3} / {total} | {url}\")\n",
        "\n",
        "  # Get next url from r.links.next.url handily provided by Requests from r.headers[\"Link\"]\n",
        "  url = r.links.get(\"next\", {}).get(\"url\")"
      ],
      "execution_count": null,
      "outputs": [
        {
          "output_type": "stream",
          "name": "stdout",
          "text": [
            "25  / 144 | https://rest.uniprot.org//uniprotkb/search?query=Parkin AND (taxonomy_id:9606)\n",
            "50  / 144 | https://rest.uniprot.org/uniprotkb/search?query=Parkin%20AND%20%28taxonomy_id%3A9606%29&cursor=1mkycb2xwxbouubkzhokb8yviqricsifugqc&size=25\n",
            "75  / 144 | https://rest.uniprot.org/uniprotkb/search?query=Parkin%20AND%20%28taxonomy_id%3A9606%29&cursor=1q25awc2b43xtmcx4f3iwkmx8gea4vm8lkj7&size=25\n",
            "100 / 144 | https://rest.uniprot.org/uniprotkb/search?query=Parkin%20AND%20%28taxonomy_id%3A9606%29&cursor=1sez60yweyzjbr3c4p47jm3jrz10mhmb3sc4&size=25\n",
            "125 / 144 | https://rest.uniprot.org/uniprotkb/search?query=Parkin%20AND%20%28taxonomy_id%3A9606%29&cursor=bc4hnkgsgmiobbq4mx3bip47w77b4e6aro2ux&size=25\n",
            "144 / 144 | https://rest.uniprot.org/uniprotkb/search?query=Parkin%20AND%20%28taxonomy_id%3A9606%29&cursor=bc6uhflfaqdjwtt47gq6avw4zxroupluizgol&size=25\n"
          ]
        }
      ]
    },
    {
      "cell_type": "markdown",
      "metadata": {
        "id": "V7uZYsRHa9ZE"
      },
      "source": [
        "# Complex search request, stream"
      ]
    },
    {
      "cell_type": "code",
      "metadata": {
        "id": "UnU26tQ2bBFt",
        "colab": {
          "base_uri": "https://localhost:8080/"
        },
        "outputId": "f522be80-7d0f-431b-c899-0a8b41c2cc90"
      },
      "source": [
        "# stream good for simplicity (no pagination), but...\n",
        "#  - harder to follow progress\n",
        "#  - harder to resume on failure\n",
        "#  - not sorted by score\n",
        "#  - limited to <10M entries\n",
        "r = get_url(f\"{WEBSITE_API}/uniprotkb/stream?query=parkin AND (taxonomy_id:9606)\")\n",
        "\n",
        "data = r.json()\n",
        "\n",
        "total = len(data[\"results\"])\n",
        "print(f\"total: {total}\")"
      ],
      "execution_count": null,
      "outputs": [
        {
          "output_type": "stream",
          "name": "stdout",
          "text": [
            "total: 144\n"
          ]
        }
      ]
    },
    {
      "cell_type": "markdown",
      "metadata": {
        "id": "AimflMTwVQuc"
      },
      "source": [
        "# Complex search request, other formats"
      ]
    },
    {
      "cell_type": "code",
      "metadata": {
        "id": "yJzgayKmVUFI",
        "colab": {
          "base_uri": "https://localhost:8080/"
        },
        "outputId": "88425dd8-a79a-4a66-e6e7-a5010605c0a6"
      },
      "source": [
        "# For all supported formats see https://www.uniprot.org/help/api_queries#list-of-all-formats\n",
        "\n",
        "# No format defined, defaults to JSON\n",
        "# r = get_url(f\"{WEBSITE_API}/uniprotkb/search?query=parkin AND (taxonomy_id:9606)&size=1\")\n",
        "\n",
        "# XML - specify format explicitely in the URL\n",
        "# r = get_url(f\"{WEBSITE_API}/uniprotkb/search?query=parkin AND (taxonomy_id:9606)&size=1&format=xml\")\n",
        "\n",
        "# XML - specify format using request headers\n",
        "# r = get_url(f\"{WEBSITE_API}/uniprotkb/search?query=parkin AND (taxonomy_id:9606)&size=1\", headers={\"Accept\": \"application/xml\"})\n",
        "\n",
        "# Accession list\n",
        "# r = get_url(f\"{WEBSITE_API}/uniprotkb/search?query=parkin AND (taxonomy_id:9606)&format=list\")\n",
        "\n",
        "# FASTA\n",
        "# r = get_url(f\"{WEBSITE_API}/uniprotkb/search?query=parkin AND (taxonomy_id:9606)&format=fasta\")\n",
        "\n",
        "# TSV\n",
        "r = get_url(f\"{WEBSITE_API}/uniprotkb/search?query=parkin AND (taxonomy_id:9606)&format=tsv\")\n",
        "\n",
        "print(r.text)"
      ],
      "execution_count": null,
      "outputs": [
        {
          "output_type": "stream",
          "name": "stdout",
          "text": [
            "Entry\tEntry Name\tReviewed\tProtein names\tGene Names\tOrganism\tLength\n",
            "O60260\tPRKN_HUMAN\treviewed\tE3 ubiquitin-protein ligase parkin (Parkin) (EC 2.3.2.31) (Parkin RBR E3 ubiquitin-protein ligase) (Parkinson juvenile disease protein 2) (Parkinson disease protein 2)\tPRKN PARK2\tHomo sapiens (Human)\t465\n",
            "Q6NUN9\tZN746_HUMAN\treviewed\tZinc finger protein 746 (Parkin-interacting substrate) (PARIS)\tZNF746 PARIS\tHomo sapiens (Human)\t644\n",
            "Q96M98\tPACRG_HUMAN\treviewed\tParkin coregulated gene protein (Molecular chaperone/chaperonin-binding protein) (PARK2 coregulated gene protein)\tPACRG GLUP\tHomo sapiens (Human)\t296\n",
            "Q8IWT3\tCUL9_HUMAN\treviewed\tCullin-9 (CUL-9) (UbcH7-associated protein 1) (p53-associated parkin-like cytoplasmic protein)\tCUL9 H7AP1 KIAA0708 PARC\tHomo sapiens (Human)\t2517\n",
            "X5DR79\tX5DR79_HUMAN\tunreviewed\tE3 ubiquitin-protein ligase parkin (EC 2.3.2.31)\tPARK2\tHomo sapiens (Human)\t465\n",
            "O15354\tGPR37_HUMAN\treviewed\tProsaposin receptor GPR37 (Endothelin B receptor-like protein 1) (ETBR-LP-1) (G-protein coupled receptor 37) (Parkin-associated endothelin receptor-like receptor) (PAELR)\tGPR37\tHomo sapiens (Human)\t613\n",
            "Q70CQ3\tUBP30_HUMAN\treviewed\tUbiquitin carboxyl-terminal hydrolase 30 (EC 3.4.19.12) (Deubiquitinating enzyme 30) (Ubiquitin thioesterase 30) (Ubiquitin-specific-processing protease 30) (Ub-specific protease 30)\tUSP30\tHomo sapiens (Human)\t517\n",
            "Q9BXM7\tPINK1_HUMAN\treviewed\tSerine/threonine-protein kinase PINK1, mitochondrial (EC 2.7.11.1) (BRPK) (PTEN-induced putative kinase protein 1)\tPINK1\tHomo sapiens (Human)\t581\n",
            "Q8N7B6\tPACRL_HUMAN\treviewed\tPACRG-like protein\tPACRGL C4orf28\tHomo sapiens (Human)\t248\n",
            "Q969V5\tMUL1_HUMAN\treviewed\tMitochondrial ubiquitin ligase activator of NFKB 1 (EC 2.3.2.27) (E3 SUMO-protein ligase MUL1) (E3 ubiquitin-protein ligase MUL1) (Growth inhibition and death E3 ligase) (Mitochondrial-anchored protein ligase) (Protein Hades) (Putative NF-kappa-B-activating protein 266) (RING finger protein 218) (RING-type E3 ubiquitin transferase NFKB 1)\tMUL1 C1orf166 GIDE MAPL MULAN RNF218\tHomo sapiens (Human)\t352\n",
            "Q9Y4E8\tUBP15_HUMAN\treviewed\tUbiquitin carboxyl-terminal hydrolase 15 (EC 3.4.19.12) (Deubiquitinating enzyme 15) (Ubiquitin thioesterase 15) (Ubiquitin-specific-processing protease 15) (Unph-2) (Unph4)\tUSP15 KIAA0529\tHomo sapiens (Human)\t981\n",
            "Q9H4P4\tRNF41_HUMAN\treviewed\tE3 ubiquitin-protein ligase NRDP1 (EC 2.3.2.27) (RING finger protein 41) (RING-type E3 ubiquitin transferase NRDP1)\tRNF41 FLRF NRDP1 SBBI03\tHomo sapiens (Human)\t317\n",
            "P0CG47\tUBB_HUMAN\treviewed\tPolyubiquitin-B [Cleaved into: Ubiquitin]\tUBB\tHomo sapiens (Human)\t229\n",
            "P62987\tRL40_HUMAN\treviewed\tUbiquitin-ribosomal protein eL40 fusion protein (CEP52) (Ubiquitin A-52 residue ribosomal protein fusion product 1) [Cleaved into: Ubiquitin; Large ribosomal subunit protein eL40 (60S ribosomal protein L40)]\tUBA52 UBCEP2\tHomo sapiens (Human)\t128\n",
            "Q99623\tPHB2_HUMAN\treviewed\tProhibitin-2 (B-cell receptor-associated protein BAP37) (D-prohibitin) (Repressor of estrogen receptor activity)\tPHB2 BAP REA\tHomo sapiens (Human)\t299\n",
            "Q9Y4X5\tARI1_HUMAN\treviewed\tE3 ubiquitin-protein ligase ARIH1 (EC 2.3.2.31) (H7-AP2) (HHARI) (Monocyte protein 6) (MOP-6) (Protein ariadne-1 homolog) (ARI-1) (UbcH7-binding protein) (UbcM4-interacting protein) (Ubiquitin-conjugating enzyme E2-binding protein 1)\tARIH1 ARI MOP6 UBCH7BP HUSSY-27\tHomo sapiens (Human)\t557\n",
            "P62979\tRS27A_HUMAN\treviewed\tUbiquitin-ribosomal protein eS31 fusion protein (Ubiquitin carboxyl extension protein 80) [Cleaved into: Ubiquitin; Small ribosomal subunit protein eS31 (40S ribosomal protein S27a)]\tRPS27A UBA80 UBCEP1\tHomo sapiens (Human)\t156\n",
            "Q709C8\tVP13C_HUMAN\treviewed\tIntermembrane lipid transfer protein VPS13C (Vacuolar protein sorting-associated protein 13C)\tVPS13C KIAA1421\tHomo sapiens (Human)\t3753\n",
            "Q16342\tPDCD2_HUMAN\treviewed\tProgrammed cell death protein 2 (Zinc finger MYND domain-containing protein 7) (Zinc finger protein Rp-8)\tPDCD2 RP8 ZMYND7\tHomo sapiens (Human)\t344\n",
            "Q9Y2W6\tTDRKH_HUMAN\treviewed\tTudor and KH domain-containing protein (Tudor domain-containing protein 2)\tTDRKH TDRD2\tHomo sapiens (Human)\t561\n",
            "O75439\tMPPB_HUMAN\treviewed\tMitochondrial-processing peptidase subunit beta (EC 3.4.24.64) (Beta-MPP) (P-52)\tPMPCB MPPB\tHomo sapiens (Human)\t489\n",
            "Q96HS1\tPGAM5_HUMAN\treviewed\tSerine/threonine-protein phosphatase PGAM5, mitochondrial (EC 3.1.3.16) (Bcl-XL-binding protein v68) (Phosphoglycerate mutase family member 5)\tPGAM5\tHomo sapiens (Human)\t289\n",
            "Q9UII4\tHERC5_HUMAN\treviewed\tE3 ISG15--protein ligase HERC5 (EC 2.3.2.-) (Cyclin-E-binding protein 1) (HECT domain and RCC1-like domain-containing protein 5)\tHERC5 CEB1 CEBP1\tHomo sapiens (Human)\t1024\n",
            "Q9UNA1\tRHG26_HUMAN\treviewed\tRho GTPase-activating protein 26 (GTPase regulator associated with focal adhesion kinase) (GRAF1) (Oligophrenin-1-like protein) (Rho-type GTPase-activating protein 26)\tARHGAP26 GRAF KIAA0621 OPHN1L\tHomo sapiens (Human)\t814\n",
            "Q9BT88\tSYT11_HUMAN\treviewed\tSynaptotagmin-11 (Synaptotagmin XI) (SytXI)\tSYT11 KIAA0080\tHomo sapiens (Human)\t431\n",
            "\n"
          ]
        }
      ]
    },
    {
      "cell_type": "markdown",
      "metadata": {
        "id": "Fz1VsM1eYazv"
      },
      "source": [
        "# Complex search request, customise column choice"
      ]
    },
    {
      "cell_type": "code",
      "metadata": {
        "id": "EI91gRfPYfbc",
        "colab": {
          "base_uri": "https://localhost:8080/"
        },
        "outputId": "72d55c05-dff3-40a7-a996-f523e28aac90"
      },
      "source": [
        "r = get_url(f\"{WEBSITE_API}/uniprotkb/search?query=parkin AND (taxonomy_id:9606)&fields=id,accession,length,cc_catalytic_activity&format=tsv\")\n",
        "print(r.text)"
      ],
      "execution_count": null,
      "outputs": [
        {
          "output_type": "stream",
          "name": "stdout",
          "text": [
            "Entry Name\tEntry\tLength\tCatalytic activity\n",
            "PRKN_HUMAN\tO60260\t465\tCATALYTIC ACTIVITY: Reaction=[E2 ubiquitin-conjugating enzyme]-S-ubiquitinyl-L-cysteine + [acceptor protein]-L-lysine = [E2 ubiquitin-conjugating enzyme]-L-cysteine + [acceptor protein]-N(6)-ubiquitinyl-L-lysine.; EC=2.3.2.31; Evidence={ECO:0000269|PubMed:23770887};\n",
            "ZN746_HUMAN\tQ6NUN9\t644\t\n",
            "PACRG_HUMAN\tQ96M98\t296\t\n",
            "CUL9_HUMAN\tQ8IWT3\t2517\t\n",
            "X5DR79_HUMAN\tX5DR79\t465\tCATALYTIC ACTIVITY: Reaction=[E2 ubiquitin-conjugating enzyme]-S-ubiquitinyl-L-cysteine + [acceptor protein]-L-lysine = [E2 ubiquitin-conjugating enzyme]-L-cysteine + [acceptor protein]-N(6)-ubiquitinyl-L-lysine.; EC=2.3.2.31; Evidence={ECO:0000256|ARBA:ARBA00001798};\n",
            "GPR37_HUMAN\tO15354\t613\t\n",
            "UBP30_HUMAN\tQ70CQ3\t517\tCATALYTIC ACTIVITY: Reaction=Thiol-dependent hydrolysis of ester, thioester, amide, peptide and isopeptide bonds formed by the C-terminal Gly of ubiquitin (a 76-residue protein attached to proteins as an intracellular targeting signal).; EC=3.4.19.12; Evidence={ECO:0000269|PubMed:14715245};\n",
            "PINK1_HUMAN\tQ9BXM7\t581\tCATALYTIC ACTIVITY: Reaction=ATP + L-seryl-[protein] = ADP + H(+) + O-phospho-L-seryl-[protein]; Xref=Rhea:RHEA:17989, Rhea:RHEA-COMP:9863, Rhea:RHEA-COMP:11604, ChEBI:CHEBI:15378, ChEBI:CHEBI:29999, ChEBI:CHEBI:30616, ChEBI:CHEBI:83421, ChEBI:CHEBI:456216; EC=2.7.11.1; Evidence={ECO:0000269|PubMed:18957282, ECO:0000269|PubMed:24660806, ECO:0000269|PubMed:24751536, ECO:0000269|PubMed:24784582, ECO:0000269|PubMed:32484300}; CATALYTIC ACTIVITY: Reaction=ATP + L-threonyl-[protein] = ADP + H(+) + O-phospho-L-threonyl-[protein]; Xref=Rhea:RHEA:46608, Rhea:RHEA-COMP:11060, Rhea:RHEA-COMP:11605, ChEBI:CHEBI:15378, ChEBI:CHEBI:30013, ChEBI:CHEBI:30616, ChEBI:CHEBI:61977, ChEBI:CHEBI:456216; EC=2.7.11.1; Evidence={ECO:0000269|PubMed:18957282, ECO:0000269|PubMed:24660806, ECO:0000269|PubMed:24751536, ECO:0000269|PubMed:24784582, ECO:0000269|PubMed:29123128, ECO:0000269|PubMed:32484300};\n",
            "PACRL_HUMAN\tQ8N7B6\t248\t\n",
            "MUL1_HUMAN\tQ969V5\t352\tCATALYTIC ACTIVITY: Reaction=S-ubiquitinyl-[E2 ubiquitin-conjugating enzyme]-L-cysteine + [acceptor protein]-L-lysine = [E2 ubiquitin-conjugating enzyme]-L-cysteine + N(6)-ubiquitinyl-[acceptor protein]-L-lysine.; EC=2.3.2.27; Evidence={ECO:0000269|PubMed:18591963, ECO:0000269|PubMed:21597459, ECO:0000269|PubMed:22410793};\n",
            "UBP15_HUMAN\tQ9Y4E8\t981\tCATALYTIC ACTIVITY: Reaction=Thiol-dependent hydrolysis of ester, thioester, amide, peptide and isopeptide bonds formed by the C-terminal Gly of ubiquitin (a 76-residue protein attached to proteins as an intracellular targeting signal).; EC=3.4.19.12; Evidence={ECO:0000269|PubMed:10444327, ECO:0000269|PubMed:16005295, ECO:0000269|PubMed:21947082, ECO:0000269|PubMed:22344298, ECO:0000269|PubMed:27368102, ECO:0000269|PubMed:33093067};\n",
            "RNF41_HUMAN\tQ9H4P4\t317\tCATALYTIC ACTIVITY: Reaction=S-ubiquitinyl-[E2 ubiquitin-conjugating enzyme]-L-cysteine + [acceptor protein]-L-lysine = [E2 ubiquitin-conjugating enzyme]-L-cysteine + N(6)-ubiquitinyl-[acceptor protein]-L-lysine.; EC=2.3.2.27;\n",
            "UBB_HUMAN\tP0CG47\t229\t\n",
            "RL40_HUMAN\tP62987\t128\t\n",
            "PHB2_HUMAN\tQ99623\t299\t\n",
            "ARI1_HUMAN\tQ9Y4X5\t557\tCATALYTIC ACTIVITY: Reaction=[E2 ubiquitin-conjugating enzyme]-S-ubiquitinyl-L-cysteine + [acceptor protein]-L-lysine = [E2 ubiquitin-conjugating enzyme]-L-cysteine + [acceptor protein]-N(6)-ubiquitinyl-L-lysine.; EC=2.3.2.31; Evidence={ECO:0000269|PubMed:15236971, ECO:0000269|PubMed:21532592, ECO:0000269|PubMed:27565346};\n",
            "RS27A_HUMAN\tP62979\t156\t\n",
            "VP13C_HUMAN\tQ709C8\t3753\t\n",
            "PDCD2_HUMAN\tQ16342\t344\t\n",
            "TDRKH_HUMAN\tQ9Y2W6\t561\t\n",
            "MPPB_HUMAN\tO75439\t489\tCATALYTIC ACTIVITY: Reaction=Release of N-terminal transit peptides from precursor proteins imported into the mitochondrion, typically with Arg in position P2.; EC=3.4.24.64; Evidence={ECO:0000305|PubMed:22354088};\n",
            "PGAM5_HUMAN\tQ96HS1\t289\tCATALYTIC ACTIVITY: Reaction=H2O + O-phospho-L-seryl-[protein] = L-seryl-[protein] + phosphate; Xref=Rhea:RHEA:20629, Rhea:RHEA-COMP:9863, Rhea:RHEA-COMP:11604, ChEBI:CHEBI:15377, ChEBI:CHEBI:29999, ChEBI:CHEBI:43474, ChEBI:CHEBI:83421; EC=3.1.3.16; Evidence={ECO:0000269|PubMed:19590015}; CATALYTIC ACTIVITY: Reaction=H2O + O-phospho-L-threonyl-[protein] = L-threonyl-[protein] + phosphate; Xref=Rhea:RHEA:47004, Rhea:RHEA-COMP:11060, Rhea:RHEA-COMP:11605, ChEBI:CHEBI:15377, ChEBI:CHEBI:30013, ChEBI:CHEBI:43474, ChEBI:CHEBI:61977; EC=3.1.3.16; Evidence={ECO:0000269|PubMed:19590015};\n",
            "HERC5_HUMAN\tQ9UII4\t1024\t\n",
            "RHG26_HUMAN\tQ9UNA1\t814\t\n",
            "SYT11_HUMAN\tQ9BT88\t431\t\n",
            "\n"
          ]
        }
      ]
    },
    {
      "cell_type": "markdown",
      "source": [
        "*Back to \"Retrieve an entry\" slide*"
      ],
      "metadata": {
        "id": "cw5BeFDB1I9X"
      }
    },
    {
      "cell_type": "markdown",
      "metadata": {
        "id": "579GRbDQnHIu"
      },
      "source": [
        "# Single entry"
      ]
    },
    {
      "cell_type": "code",
      "metadata": {
        "id": "qeVWVdKwm2p-",
        "colab": {
          "base_uri": "https://localhost:8080/"
        },
        "outputId": "9ec34f25-77eb-4d9b-c4d2-9af8c91e7db5"
      },
      "source": [
        "# all of the entry\n",
        "# r = get_url(f\"{WEBSITE_API}/uniprotkb/O60260\")\n",
        "# only the catalytic activity comments\n",
        "r = get_url(f\"{WEBSITE_API}/uniprotkb/O60260?fields=cc_catalytic_activity\")\n",
        "print(json.dumps(r.json(), indent=2))"
      ],
      "execution_count": null,
      "outputs": [
        {
          "output_type": "stream",
          "name": "stdout",
          "text": [
            "{\n",
            "  \"entryType\": \"UniProtKB reviewed (Swiss-Prot)\",\n",
            "  \"primaryAccession\": \"O60260\",\n",
            "  \"comments\": [\n",
            "    {\n",
            "      \"commentType\": \"CATALYTIC ACTIVITY\",\n",
            "      \"reaction\": {\n",
            "        \"name\": \"[E2 ubiquitin-conjugating enzyme]-S-ubiquitinyl-L-cysteine + [acceptor protein]-L-lysine = [E2 ubiquitin-conjugating enzyme]-L-cysteine + [acceptor protein]-N(6)-ubiquitinyl-L-lysine.\",\n",
            "        \"ecNumber\": \"2.3.2.31\",\n",
            "        \"evidences\": [\n",
            "          {\n",
            "            \"evidenceCode\": \"ECO:0000269\",\n",
            "            \"source\": \"PubMed\",\n",
            "            \"id\": \"23770887\"\n",
            "          }\n",
            "        ]\n",
            "      }\n",
            "    }\n",
            "  ],\n",
            "  \"extraAttributes\": {\n",
            "    \"uniParcId\": \"UPI00003673FE\"\n",
            "  }\n",
            "}\n"
          ]
        }
      ]
    },
    {
      "cell_type": "markdown",
      "source": [
        "*Back to \"understanding annotation types\" slide*"
      ],
      "metadata": {
        "id": "dI7F4TcW2Pl6"
      }
    },
    {
      "cell_type": "markdown",
      "metadata": {
        "id": "YVA3Y8XUSDAu"
      },
      "source": [
        "# All isoforms of an entry"
      ]
    },
    {
      "cell_type": "code",
      "metadata": {
        "id": "oPQ51L6XSFpQ"
      },
      "source": [
        "# isoform info for XBP1_HUMAN\n",
        "r = get_url(f\"{WEBSITE_API}/uniprotkb/search?query=P17861&includeIsoform=true&fields=accession,cc_function,cc_subcellular_location,cc_ptm,sequence&format=tsv\")\n",
        "\n",
        "print(r.text)"
      ],
      "execution_count": null,
      "outputs": []
    },
    {
      "cell_type": "markdown",
      "source": [
        "# Natural variants information for an entry"
      ],
      "metadata": {
        "id": "CXTauykW3MQ6"
      }
    },
    {
      "cell_type": "code",
      "source": [
        "# natural variants info for O60260 / PRKN_HUMAN\n",
        "r_uniprot_api = get_url(f\"{WEBSITE_API}/uniprotkb/O60260?fields=ft_variant\")\n",
        "print(f\"number of variants in UniProt website API: {len(r_uniprot_api.json()['features'])}\")\n",
        "print(json.dumps(r_uniprot_api.json()['features'][0], indent=2))"
      ],
      "metadata": {
        "id": "-xF4cdaW3Pdn",
        "colab": {
          "base_uri": "https://localhost:8080/"
        },
        "outputId": "d56be38c-e62e-42bf-f6e6-f716514a952e"
      },
      "execution_count": null,
      "outputs": [
        {
          "output_type": "stream",
          "name": "stdout",
          "text": [
            "number of variants in UniProt website API: 40\n",
            "{\n",
            "  \"type\": \"Natural variant\",\n",
            "  \"location\": {\n",
            "    \"start\": {\n",
            "      \"value\": 15,\n",
            "      \"modifier\": \"EXACT\"\n",
            "    },\n",
            "    \"end\": {\n",
            "      \"value\": 15,\n",
            "      \"modifier\": \"EXACT\"\n",
            "    }\n",
            "  },\n",
            "  \"description\": \"in PARK2; dbSNP:rs532703934\",\n",
            "  \"featureCrossReferences\": [\n",
            "    {\n",
            "      \"database\": \"dbSNP\",\n",
            "      \"id\": \"rs532703934\"\n",
            "    }\n",
            "  ],\n",
            "  \"evidences\": [\n",
            "    {\n",
            "      \"evidenceCode\": \"ECO:0000269\",\n",
            "      \"source\": \"PubMed\",\n",
            "      \"id\": \"12397156\"\n",
            "    }\n",
            "  ],\n",
            "  \"featureId\": \"VAR_019733\",\n",
            "  \"alternativeSequence\": {\n",
            "    \"originalSequence\": \"V\",\n",
            "    \"alternativeSequences\": [\n",
            "      \"M\"\n",
            "    ]\n",
            "  }\n",
            "}\n"
          ]
        }
      ]
    },
    {
      "cell_type": "code",
      "source": [
        "# using proteins API variation endpoint\n",
        "r_proteins_api = get_url(f\"{PROTEINS_API}/variation/O60260\")\n",
        "print(f\"number of variants in Proteins API: {len(r_proteins_api.json()['features'])}\")\n",
        "# show second variant from list\n",
        "print(json.dumps(r_proteins_api.json()['features'][1], indent=2))"
      ],
      "metadata": {
        "id": "gS4VdmkPKmMM",
        "colab": {
          "base_uri": "https://localhost:8080/"
        },
        "outputId": "3c498379-73c6-4d47-961f-66b07c487904"
      },
      "execution_count": null,
      "outputs": [
        {
          "output_type": "stream",
          "name": "stdout",
          "text": [
            "number of variants in Proteins API: 896\n",
            "{\n",
            "  \"type\": \"VARIANT\",\n",
            "  \"alternativeSequence\": \"T\",\n",
            "  \"begin\": \"1\",\n",
            "  \"end\": \"1\",\n",
            "  \"xrefs\": [\n",
            "    {\n",
            "      \"name\": \"ClinVar\",\n",
            "      \"id\": \"RCV000992706\",\n",
            "      \"url\": \"https://www.ncbi.nlm.nih.gov/clinvar/RCV000992706\",\n",
            "      \"alternativeUrl\": \"https://www.ensembl.org/homo_sapiens/Variation/Explore?v=RCV000992706\"\n",
            "    },\n",
            "    {\n",
            "      \"name\": \"ClinVar\",\n",
            "      \"id\": \"RCV001784521\",\n",
            "      \"url\": \"https://www.ncbi.nlm.nih.gov/clinvar/RCV001784521\",\n",
            "      \"alternativeUrl\": \"https://www.ensembl.org/homo_sapiens/Variation/Explore?v=RCV001784521\"\n",
            "    },\n",
            "    {\n",
            "      \"name\": \"dbSNP\",\n",
            "      \"id\": \"rs771586218\",\n",
            "      \"url\": \"https://www.ncbi.nlm.nih.gov/SNP/snp_ref.cgi?type=rs&rs=rs771586218\"\n",
            "    }\n",
            "  ],\n",
            "  \"cytogeneticBand\": \"6q26\",\n",
            "  \"genomicLocation\": [\n",
            "    \"NC_000006.12:g.162727667A>G\"\n",
            "  ],\n",
            "  \"locations\": [\n",
            "    {\n",
            "      \"loc\": \"p.Met1Thr\",\n",
            "      \"seqId\": \"ENST00000366898\",\n",
            "      \"source\": \"ClinVar\"\n",
            "    }\n",
            "  ],\n",
            "  \"consequenceType\": \"missense\",\n",
            "  \"wildType\": \"M\",\n",
            "  \"mutatedType\": \"T\",\n",
            "  \"populationFrequencies\": [\n",
            "    {\n",
            "      \"populationName\": \"MAF\",\n",
            "      \"frequency\": 0.00027,\n",
            "      \"source\": \"ClinVar\"\n",
            "    }\n",
            "  ],\n",
            "  \"somaticStatus\": 0,\n",
            "  \"clinicalSignificances\": [\n",
            "    {\n",
            "      \"type\": \"Pathogenic\",\n",
            "      \"sources\": [\n",
            "        \"ClinVar\"\n",
            "      ],\n",
            "      \"reviewStatus\": \"criteria provided, single submitter\"\n",
            "    }\n",
            "  ],\n",
            "  \"association\": [\n",
            "    {\n",
            "      \"name\": \"Autosomal recessive juvenile Parkinson disease 2\",\n",
            "      \"description\": \"Parkin type of early-onset Parkinson disease (PARK-Parkin) is characterized by the cardinal signs of Parkinson disease (PD): bradykinesia, resting tremor, and rigidity.\",\n",
            "      \"dbReferences\": [\n",
            "        {\n",
            "          \"name\": \"MIM\",\n",
            "          \"id\": \"600116\",\n",
            "          \"url\": \"https://www.omim.org/entry/600116\"\n",
            "        }\n",
            "      ],\n",
            "      \"evidences\": [\n",
            "        {\n",
            "          \"code\": \"ECO:0000313\",\n",
            "          \"source\": {\n",
            "            \"name\": \"pubmed\",\n",
            "            \"id\": \"20301402\",\n",
            "            \"url\": \"https://www.ncbi.nlm.nih.gov/pubmed/20301402\",\n",
            "            \"alternativeUrl\": \"https://europepmc.org/abstract/MED/20301402\"\n",
            "          }\n",
            "        },\n",
            "        {\n",
            "          \"code\": \"ECO:0000313\",\n",
            "          \"source\": {\n",
            "            \"name\": \"pubmed\",\n",
            "            \"id\": \"20301651\",\n",
            "            \"url\": \"https://www.ncbi.nlm.nih.gov/pubmed/20301651\",\n",
            "            \"alternativeUrl\": \"https://europepmc.org/abstract/MED/20301651\"\n",
            "          }\n",
            "        },\n",
            "        {\n",
            "          \"code\": \"ECO:0000313\",\n",
            "          \"source\": {\n",
            "            \"name\": \"pubmed\",\n",
            "            \"id\": \"23279440\",\n",
            "            \"url\": \"https://www.ncbi.nlm.nih.gov/pubmed/23279440\",\n",
            "            \"alternativeUrl\": \"https://europepmc.org/abstract/MED/23279440\"\n",
            "          }\n",
            "        },\n",
            "        {\n",
            "          \"code\": \"ECO:0000313\",\n",
            "          \"source\": {\n",
            "            \"name\": \"ClinVar\",\n",
            "            \"id\": \"RCV001784521\",\n",
            "            \"url\": \"https://www.ncbi.nlm.nih.gov/clinvar/RCV001784521\",\n",
            "            \"alternativeUrl\": \"https://www.ensembl.org/homo_sapiens/Variation/Explore?v=RCV001784521\"\n",
            "          }\n",
            "        }\n",
            "      ],\n",
            "      \"disease\": true\n",
            "    }\n",
            "  ],\n",
            "  \"descriptions\": [\n",
            "    {\n",
            "      \"value\": \"Autosomal recessive juvenile Parkinson disease 2\",\n",
            "      \"sources\": [\n",
            "        \"ClinVar\"\n",
            "      ]\n",
            "    }\n",
            "  ],\n",
            "  \"sourceType\": \"large_scale_study\"\n",
            "}\n"
          ]
        }
      ]
    },
    {
      "cell_type": "markdown",
      "source": [
        "*Back to \"retrieve and compare orthologs\" slide*"
      ],
      "metadata": {
        "id": "rkpnhb7m5O09"
      }
    },
    {
      "cell_type": "markdown",
      "source": [
        "# Alignment flow"
      ],
      "metadata": {
        "id": "aD_UpZTnK9XO"
      }
    },
    {
      "cell_type": "code",
      "source": [
        "# manually selected accessions\n",
        "accessions = \",\".join([\"O60260\", \"Q7KTX7\", \"Q9WVS6\", \"Q9JK66\"])\n",
        "\n",
        "r = get_url(f\"{WEBSITE_API}/uniprotkb/accessions?accessions={accessions}&format=fasta\")\n",
        "fasta = r.text\n",
        "print(fasta)"
      ],
      "metadata": {
        "id": "SxpY6kenDILg",
        "colab": {
          "base_uri": "https://localhost:8080/"
        },
        "outputId": "017b7e0a-1a0c-4a19-f3da-0915053fe866"
      },
      "execution_count": null,
      "outputs": [
        {
          "output_type": "stream",
          "name": "stdout",
          "text": [
            ">sp|O60260|PRKN_HUMAN E3 ubiquitin-protein ligase parkin OS=Homo sapiens OX=9606 GN=PRKN PE=1 SV=2\n",
            "MIVFVRFNSSHGFPVEVDSDTSIFQLKEVVAKRQGVPADQLRVIFAGKELRNDWTVQNCD\n",
            "LDQQSIVHIVQRPWRKGQEMNATGGDDPRNAAGGCEREPQSLTRVDLSSSVLPGDSVGLA\n",
            "VILHTDSRKDSPPAGSPAGRSIYNSFYVYCKGPCQRVQPGKLRVQCSTCRQATLTLTQGP\n",
            "SCWDDVLIPNRMSGECQSPHCPGTSAEFFFKCGAHPTSDKETSVALHLIATNSRNITCIT\n",
            "CTDVRSPVLVFQCNSRHVICLDCFHLYCVTRLNDRQFVHDPQLGYSLPCVAGCPNSLIKE\n",
            "LHHFRILGEEQYNRYQQYGAEECVLQMGGVLCPRPGCGAGLLPEPDQRKVTCEGGNGLGC\n",
            "GFAFCRECKEAYHEGECSAVFEASGTTTQAYRVDERAAEQARWEAASKETIKKTTKPCPR\n",
            "CHVPVEKNGGCMHMKCPQPQCRLEWCWNCGCEWNRVCMGDHWFDV\n",
            ">sp|Q7KTX7|PRKN_DROME E3 ubiquitin-protein ligase parkin OS=Drosophila melanogaster OX=7227 GN=park PE=1 SV=1\n",
            "MSFIFKFIATFVRKMLELLQFGGKTLTHTLSIYVKTNTGKTLTVNLEPQWDIKNVKELVA\n",
            "PQLGLQPDDLKIIFAGKELSDATTIEQCDLGQQSVLHAIRLRPPVQRQKIQSATLEEEEP\n",
            "SLSDEASKPLNETLLDLQLESEERLNITDEERVRAKAHFFVHCSQCDKLCNGKLRVRCAL\n",
            "CKGGAFTVHRDPECWDDVLKSRRIPGHCESLEVACVDNAAGDPPFAEFFFKCAEHVSGGE\n",
            "KDFAAPLNLIKNNIKNVPCLACTDVSDTVLVFPCASQHVTCIDCFRHYCRSRLGERQFMP\n",
            "HPDFGYTLPCPAGCEHSFIEEIHHFKLLTREEYDRYQRFATEEYVLQAGGVLCPQPGCGM\n",
            "GLLVEPDCRKVTCQNGCGYVFCRNCLQGYHIGECLPEGTGASATNSCEYTVDPNRAAEAR\n",
            "WDEASNVTIKVSTKPCPKCRTPTERDGGCMHMVCTRAGCGFEWCWVCQTEWTRDCMGAHW\n",
            "FG\n",
            ">sp|Q9WVS6|PRKN_MOUSE E3 ubiquitin-protein ligase parkin OS=Mus musculus OX=10090 GN=Prkn PE=1 SV=1\n",
            "MIVFVRFNSSYGFPVEVDSDTSILQLKEVVAKRQGVPADQLRVIFAGKELPNHLTVQNCD\n",
            "LEQQSIVHIVQRPRRRSHETNASGGDEPQSTSEGSIWESRSLTRVDLSSHTLPVDSVGLA\n",
            "VILDTDSKRDSEAARGPVKPTYNSFFIYCKGPCHKVQPGKLRVQCGTCKQATLTLAQGPS\n",
            "CWDDVLIPNRMSGECQSPDCPGTRAEFFFKCGAHPTSDKDTSVALNLITSNRRSIPCIAC\n",
            "TDVRSPVLVFQCNHRHVICLDCFHLYCVTRLNDRQFVHDAQLGYSLPCVAGCPNSLIKEL\n",
            "HHFRILGEEQYTRYQQYGAEECVLQMGGVLCPRPGCGAGLLPEQGQRKVTCEGGNGLGCG\n",
            "FVFCRDCKEAYHEGDCDSLLEPSGATSQAYRVDKRAAEQARWEEASKETIKKTTKPCPRC\n",
            "NVPIEKNGGCMHMKCPQPQCKLEWCWNCGCEWNRACMGDHWFDV\n",
            ">sp|Q9JK66|PRKN_RAT E3 ubiquitin-protein ligase parkin OS=Rattus norvegicus OX=10116 GN=Prkn PE=1 SV=1\n",
            "MIVFVRFNSSYGFPVEVDSDTSIFQLKEVVAKRQGVPADQLRVIFAGKELQNHLTVQNCD\n",
            "LEQQSIVHIVQRPQRKSHETNASGGDKPQSTPEGSIWEPRSLTRVDLSSHILPADSVGLA\n",
            "VILDTDSKSDSEAARGPEAKPTYHSFFVYCKGPCHKVQPGKLRVQCGTCRQATLTLAQGP\n",
            "SCWDDVLIPNRMSGECQSPDCPGTRAEFFFKCGAHPTSDKDTSVALNLITNNSRSIPCIA\n",
            "CTDVRNPVLVFQCNHRHVICLDCFHLYCVTRLNDRQFVHDAQLGYSLPCVAGCPNSLIKE\n",
            "LHHFRILGEEQYNRYQQYGAEECVLQMGGVLCPRPGCGAGLLPEQGQKKVTCEGGNGLGC\n",
            "GFVFCRDCKEAYHEGECDSMFEASGATSQAYRVDQRAAEQARWEEASKETIKKTTKPCPR\n",
            "CNVPIEKNGGCMHMKCPQPQCKLEWCWNCGCEWNRACMGDHWFDV\n",
            "\n"
          ]
        }
      ]
    },
    {
      "cell_type": "code",
      "metadata": {
        "id": "7NKTYg2Root1",
        "colab": {
          "base_uri": "https://localhost:8080/"
        },
        "outputId": "96c29191-867f-44ca-8197-281b3edf7327"
      },
      "source": [
        "# submit align job using clustalo\n",
        "r = requests.post(\"https://www.ebi.ac.uk/Tools/services/rest/clustalo/run\", data={\n",
        "    \"email\": \"example@example.com\",\n",
        "    \"iterations\": 0,\n",
        "    \"outfmt\": \"clustal_num\",\n",
        "    \"order\": \"aligned\",\n",
        "    \"sequence\": fasta\n",
        "})\n",
        "\n",
        "# documentation here https://www.ebi.ac.uk/seqdb/confluence/display/JDSAT/Clustal+Omega+Help+and+Documentation#ClustalOmegaHelpandDocumentation-RESTAPI\n",
        "\n",
        "job_id = r.text\n",
        "print(job_id)\n",
        "\n",
        "# get job status\n",
        "r = get_url(f\"https://www.ebi.ac.uk/Tools/services/rest/clustalo/status/{job_id}\")\n",
        "print(r.text)"
      ],
      "execution_count": null,
      "outputs": [
        {
          "output_type": "stream",
          "name": "stdout",
          "text": [
            "clustalo-R20241031-153802-0309-29252165-p1m\n",
            "QUEUED\n"
          ]
        }
      ]
    },
    {
      "cell_type": "code",
      "metadata": {
        "id": "UlJLOOGZo2aK",
        "colab": {
          "base_uri": "https://localhost:8080/"
        },
        "outputId": "5bbd33f6-5092-451e-cab9-9e8c0903c52e"
      },
      "source": [
        "# Run the following again to check the status until finished\n",
        "r = get_url(f\"https://www.ebi.ac.uk/Tools/services/rest/clustalo/status/{job_id}\")\n",
        "print(r.text)"
      ],
      "execution_count": null,
      "outputs": [
        {
          "output_type": "stream",
          "name": "stdout",
          "text": [
            "FINISHED\n"
          ]
        }
      ]
    },
    {
      "cell_type": "code",
      "metadata": {
        "id": "JUkl6vBhpW-n",
        "colab": {
          "base_uri": "https://localhost:8080/"
        },
        "outputId": "8ccb870d-c252-40d3-9e02-c2f22a317fc8"
      },
      "source": [
        "r = get_url(f\"https://www.ebi.ac.uk/Tools/services/rest/clustalo/result/{job_id}/aln-clustal_num\")\n",
        "print(r.text)\n",
        "\n",
        "# * : Fully conserved residues.\n",
        "# : : Conservation between groups of strongly similar properties (Gonnet PAM 250 score > 0.5).\n",
        "# . : Conservation between groups of weakly similar properties (Gonnet PAM 250 score ≤ 0.5).\n",
        "#   : Non-conserved residues."
      ],
      "execution_count": null,
      "outputs": [
        {
          "output_type": "stream",
          "name": "stdout",
          "text": [
            "CLUSTAL O(1.2.4) multiple sequence alignment\n",
            "\n",
            "\n",
            "sp|Q7KTX7|PRKN_DROME      MSFIFKFIATFVRKMLELLQFGGKTLTHTLSIYVKTNTGKTLTVNLEPQWDIKNVKELVA\t60\n",
            "sp|O60260|PRKN_HUMAN      -----------------------------MIVFVRFNSSHGFPVEVDSDTSIFQLKEVVA\t31\n",
            "sp|Q9WVS6|PRKN_MOUSE      -----------------------------MIVFVRFNSSYGFPVEVDSDTSILQLKEVVA\t31\n",
            "sp|Q9JK66|PRKN_RAT        -----------------------------MIVFVRFNSSYGFPVEVDSDTSIFQLKEVVA\t31\n",
            "                                                       : ::*: *:.  : *::: : .* ::**:**\n",
            "\n",
            "sp|Q7KTX7|PRKN_DROME      PQLGLQPDDLKIIFAGKELSDATTIEQCDLGQQSVLHAIRLRPPVQRQKIQSATLEEEEP\t120\n",
            "sp|O60260|PRKN_HUMAN      KRQGVPADQLRVIFAGKELRNDWTVQNCDLDQQSIVHIVQRP-WRKGQEMNAT--GGDDP\t88\n",
            "sp|Q9WVS6|PRKN_MOUSE      KRQGVPADQLRVIFAGKELPNHLTVQNCDLEQQSIVHIVQRP-RRRSHETNAS--GGDEP\t88\n",
            "sp|Q9JK66|PRKN_RAT        KRQGVPADQLRVIFAGKELQNHLTVQNCDLEQQSIVHIVQRP-QRKSHETNAS--GGDKP\t88\n",
            "                           : *:  *:*::******* :  *:::*** ***::* ::     : :: :::    :.*\n",
            "\n",
            "sp|Q7KTX7|PRKN_DROME      SLSDEA--SKPL--------------NETLLDLQLESEERLNIT---DEERVRAKAHFFV\t161\n",
            "sp|O60260|PRKN_HUMAN      RNAAGGCEREPQSLTRVDLSSSVLPGDSVGLAVILHTDSRKDSPPAGSPAGRSIYNSFYV\t148\n",
            "sp|Q9WVS6|PRKN_MOUSE      QSTSEGSIWESRSLTRVDLSSHTLPVDSVGLAVILDTDSKRDSEAARGP-VKPTYNSFFI\t147\n",
            "sp|Q9JK66|PRKN_RAT        QSTPEGSIWEPRSLTRVDLSSHILPADSVGLAVILDTDSKSDSEAARGPEAKPTYHSFFV\t148\n",
            "                            :  .   :                :.. * : *.::.: :     .         *::\n",
            "\n",
            "sp|Q7KTX7|PRKN_DROME      HC-SQCDKLCNGKLRVRCALCKGGAFTVHRDPECWDDVLKSRRIPGHCESLEVACVDNAA\t220\n",
            "sp|O60260|PRKN_HUMAN      YCKGPCQRVQPGKLRVQCSTCRQATLTLTQGPSCWDDVLIPNRMSGECQSPHCP------\t202\n",
            "sp|Q9WVS6|PRKN_MOUSE      YCKGPCHKVQPGKLRVQCGTCKQATLTLAQGPSCWDDVLIPNRMSGECQSPDCP------\t201\n",
            "sp|Q9JK66|PRKN_RAT        YCKGPCHKVQPGKLRVQCGTCRQATLTLAQGPSCWDDVLIPNRMSGECQSPDCP------\t202\n",
            "                          :* . *.::  *****:*. *: .::*: :.*.******  .*: *.*:* .        \n",
            "\n",
            "sp|Q7KTX7|PRKN_DROME      GDPPFAEFFFKCAEHVSGGEKDFAAPLNLIKNNIKNVPCLACTDVSDTVLVFPCASQHVT\t280\n",
            "sp|O60260|PRKN_HUMAN      --GTSAEFFFKCGAHPTS-DKETSVALHLIATNSRNITCITCTDVRSPVLVFQCNSRHVI\t259\n",
            "sp|Q9WVS6|PRKN_MOUSE      --GTRAEFFFKCGAHPTS-DKDTSVALNLITSNRRSIPCIACTDVRSPVLVFQCNHRHVI\t258\n",
            "sp|Q9JK66|PRKN_RAT        --GTRAEFFFKCGAHPTS-DKDTSVALNLITNNSRSIPCIACTDVRNPVLVFQCNHRHVI\t259\n",
            "                               *******. * :. :*: :. *:** .* :.: *::**** . **** *  :** \n",
            "\n",
            "sp|Q7KTX7|PRKN_DROME      CIDCFRHYCRSRLGERQFMPHPDFGYTLPCPAGCEHSFIEEIHHFKLLTREEYDRYQRFA\t340\n",
            "sp|O60260|PRKN_HUMAN      CLDCFHLYCVTRLNDRQFVHDPQLGYSLPCVAGCPNSLIKELHHFRILGEEQYNRYQQYG\t319\n",
            "sp|Q9WVS6|PRKN_MOUSE      CLDCFHLYCVTRLNDRQFVHDAQLGYSLPCVAGCPNSLIKELHHFRILGEEQYTRYQQYG\t318\n",
            "sp|Q9JK66|PRKN_RAT        CLDCFHLYCVTRLNDRQFVHDAQLGYSLPCVAGCPNSLIKELHHFRILGEEQYNRYQQYG\t319\n",
            "                          *:***: ** :**.:***: . ::**:*** *** :*:*:*:***::* .*:* ***::.\n",
            "\n",
            "sp|Q7KTX7|PRKN_DROME      TEEYVLQAGGVLCPQPGCGMGLLVEPDCRKVTCQN----GCGYVFCRNCLQGYHIGECLP\t396\n",
            "sp|O60260|PRKN_HUMAN      AEECVLQMGGVLCPRPGCGAGLLPEPDQRKVTCEGGNGLGCGFAFCRECKEAYHEGECSA\t379\n",
            "sp|Q9WVS6|PRKN_MOUSE      AEECVLQMGGVLCPRPGCGAGLLPEQGQRKVTCEGGNGLGCGFVFCRDCKEAYHEGDCDS\t378\n",
            "sp|Q9JK66|PRKN_RAT        AEECVLQMGGVLCPRPGCGAGLLPEQGQKKVTCEGGNGLGCGFVFCRDCKEAYHEGECDS\t379\n",
            "                          :** *** ******:**** *** * . :****:.    ***:.***:* :.** *:*  \n",
            "\n",
            "sp|Q7KTX7|PRKN_DROME      EGTGASATNSCEYTVDPNRAAEARWDEASNVTIKVSTKPCPKCRTPTERDGGCMHMVCTR\t456\n",
            "sp|O60260|PRKN_HUMAN      VF-EASGTTTQAYRVDERAAEQARWEAASKETIKKTTKPCPRCHVPVEKNGGCMHMKCPQ\t438\n",
            "sp|Q9WVS6|PRKN_MOUSE      LL-EPSGATSQAYRVDKRAAEQARWEEASKETIKKTTKPCPRCNVPIEKNGGCMHMKCPQ\t437\n",
            "sp|Q9JK66|PRKN_RAT        MF-EASGATSQAYRVDQRAAEQARWEEASKETIKKTTKPCPRCNVPIEKNGGCMHMKCPQ\t438\n",
            "                               *.:.:  * ** . * :***: **: *** :*****:*..* *::****** * :\n",
            "\n",
            "sp|Q7KTX7|PRKN_DROME      AGCGFEWCWVCQTEWTRDCMGAHWFG-\t482\n",
            "sp|O60260|PRKN_HUMAN      PQCRLEWCWNCGCEWNRVCMGDHWFDV\t465\n",
            "sp|Q9WVS6|PRKN_MOUSE      PQCKLEWCWNCGCEWNRACMGDHWFDV\t464\n",
            "sp|Q9JK66|PRKN_RAT        PQCKLEWCWNCGCEWNRACMGDHWFDV\t465\n",
            "                            * :**** *  **.* *** ***. \n",
            "\n"
          ]
        }
      ]
    },
    {
      "cell_type": "markdown",
      "source": [
        "*Back to \"retrieve ID mapping service\" slide*"
      ],
      "metadata": {
        "id": "Qv1XF71f5izG"
      }
    },
    {
      "cell_type": "markdown",
      "metadata": {
        "id": "X4zx3N-dgOSX"
      },
      "source": [
        "# ID mapping flow"
      ]
    },
    {
      "cell_type": "code",
      "metadata": {
        "id": "zvDpOjPwgQoP",
        "colab": {
          "base_uri": "https://localhost:8080/"
        },
        "outputId": "fa89e6a8-a2a7-4741-f16c-2b7aff026a97"
      },
      "source": [
        "# Manually selected accessions\n",
        "accessions = [\"O60260\", \"Q7KTX7\", \"Q9WVS6\", \"Q9JK66\"]\n",
        "\n",
        "# Send job to ID mapping endpoint\n",
        "r = requests.post(f\"{WEBSITE_API}/idmapping/run\", data={\n",
        "    \"from\": \"UniProtKB_AC-ID\",\n",
        "    \"to\": \"RefSeq_Nucleotide\",\n",
        "    \"ids\": accessions\n",
        "})\n",
        "job_id = r.json()['jobId']\n",
        "print(\"job ID:\", job_id)\n",
        "\n",
        "r = get_url(f\"{WEBSITE_API}/idmapping/status/{job_id}\")\n",
        "print(json.dumps(r.json(), indent=2))"
      ],
      "execution_count": null,
      "outputs": [
        {
          "output_type": "stream",
          "name": "stdout",
          "text": [
            "job ID: a1e2f0093beee90a823830662be4c961d685852c\n",
            "{\n",
            "  \"results\": [\n",
            "    {\n",
            "      \"from\": \"O60260\",\n",
            "      \"to\": \"NM_004562.2\"\n",
            "    },\n",
            "    {\n",
            "      \"from\": \"O60260\",\n",
            "      \"to\": \"NM_013987.2\"\n",
            "    },\n",
            "    {\n",
            "      \"from\": \"O60260\",\n",
            "      \"to\": \"NM_013988.2\"\n",
            "    },\n",
            "    {\n",
            "      \"from\": \"Q7KTX7\",\n",
            "      \"to\": \"NM_168884.2\"\n",
            "    },\n",
            "    {\n",
            "      \"from\": \"Q7KTX7\",\n",
            "      \"to\": \"NM_168885.3\"\n",
            "    },\n",
            "    {\n",
            "      \"from\": \"Q9WVS6\",\n",
            "      \"to\": \"NM_001317726.1\"\n",
            "    },\n",
            "    {\n",
            "      \"from\": \"Q9WVS6\",\n",
            "      \"to\": \"NM_016694.4\"\n",
            "    },\n",
            "    {\n",
            "      \"from\": \"Q9JK66\",\n",
            "      \"to\": \"NM_020093.1\"\n",
            "    }\n",
            "  ]\n",
            "}\n"
          ]
        }
      ]
    },
    {
      "cell_type": "code",
      "source": [
        "# Run the following again to check the status until finished\n",
        "# r = get_url(f\"{WEBSITE_API}/idmapping/status/{job_id}\")\n",
        "# print(json.dumps(r.json(), indent=2))"
      ],
      "metadata": {
        "id": "JYcrBihb5ioQ"
      },
      "execution_count": null,
      "outputs": []
    },
    {
      "cell_type": "markdown",
      "source": [
        "*Back to last slides*"
      ],
      "metadata": {
        "id": "BIjl6sQn827X"
      }
    },
    {
      "cell_type": "markdown",
      "source": [
        "# *Extra:* BLAST flow"
      ],
      "metadata": {
        "id": "eZfikod6K_68"
      }
    },
    {
      "cell_type": "code",
      "metadata": {
        "id": "Q0XBrJMZKIc4"
      },
      "source": [
        "# get FASTA file\n",
        "r = get_url(f\"{WEBSITE_API}/uniprotkb/Q13496?format=fasta\")\n",
        "print(r.text)\n",
        "\n",
        "# submit blast job\n",
        "r = requests.post(\"https://www.ebi.ac.uk/Tools/services/rest/ncbiblast/run\", data={\n",
        "    \"email\": \"example@example.com\",\n",
        "    \"program\": \"blastp\",\n",
        "    \"matrix\": \"BLOSUM62\",\n",
        "    \"alignments\": 250,\n",
        "    \"scores\": 250,\n",
        "    \"exp\": 10,\n",
        "    \"filter\": \"F\",\n",
        "    \"gapalign\": \"true\",\n",
        "    \"stype\": \"protein\",\n",
        "    \"database\": \"uniprotkb_refprotswissprot\",\n",
        "    # restricted to Mammalia in this example\n",
        "    \"taxids\": \"40674\",\n",
        "    \"sequence\": r.text,\n",
        "})\n",
        "# documentation here https://www.ebi.ac.uk/seqdb/confluence/pages/viewpage.action?pageId=94147939#NCBIBLAST+HelpandDocumentation-RESTAPI\n",
        "\n",
        "job_id = r.text\n",
        "print(job_id)\n",
        "\n",
        "# get job status\n",
        "r = get_url(f\"https://www.ebi.ac.uk/Tools/services/rest/ncbiblast/status/{job_id}\")\n",
        "print(r.text)"
      ],
      "execution_count": null,
      "outputs": []
    },
    {
      "cell_type": "code",
      "metadata": {
        "id": "EI2tIjZ0LbAJ"
      },
      "source": [
        "# Run the following again to check the status until finished\n",
        "r = get_url(f\"https://www.ebi.ac.uk/Tools/services/rest/ncbiblast/status/{job_id}\")\n",
        "print(r.text)"
      ],
      "execution_count": null,
      "outputs": []
    },
    {
      "cell_type": "code",
      "metadata": {
        "id": "eitwsmQJLeb7"
      },
      "source": [
        "r = get_url(f\"https://www.ebi.ac.uk/Tools/services/rest/ncbiblast/result/{job_id}/out\")\n",
        "print(r.text)"
      ],
      "execution_count": null,
      "outputs": []
    },
    {
      "cell_type": "markdown",
      "source": [
        "# *Extra:* PTM retrievals"
      ],
      "metadata": {
        "id": "GwGTwJP2Gzqx"
      }
    },
    {
      "cell_type": "code",
      "source": [
        "# Use B9FXV5 protein (Eukaryotic translation initiation factor 4G in rice)\n",
        "accession = \"B9FXV5\"\n",
        "# documentation https://www.ebi.ac.uk/proteins/api/doc/#!/proteomics-ptm/getByAccession\n",
        "r = get_url(f\"{PROTEINS_API}/proteomics-ptm/{accession}\")\n",
        "\n",
        "data = r.json()\n",
        "\n",
        "t = PrettyTable(['name', 'position', 'sources', 'id', 'confidence'])\n",
        "table_data = []\n",
        "for feature in data['features']:\n",
        "  for ptm in feature['ptms']:\n",
        "    for dbRef in ptm['dbReferences']:\n",
        "      table_data.append(\n",
        "          (ptm['name'],\n",
        "           int(feature['begin']) + int(ptm['position']) - 1,\n",
        "           ','.join(ptm['sources']),\n",
        "           dbRef['id'],\n",
        "           dbRef['properties']['Confidence score']))\n",
        "\n",
        "# sort by \"position\" column\n",
        "table_data = sorted(table_data, key=lambda x: x[1])\n",
        "# filter by \"confidence\" column, only \"Gold\" values\n",
        "table_data = filter(lambda x: x[4] == 'Gold', table_data)\n",
        "\n",
        "t.add_rows(table_data)\n",
        "\n",
        "print(t)"
      ],
      "metadata": {
        "id": "i-hV6lqSG39s"
      },
      "execution_count": null,
      "outputs": []
    },
    {
      "cell_type": "markdown",
      "metadata": {
        "id": "0nxKNmcpjJBs"
      },
      "source": [
        "# *Extra:* Visualisation example\n",
        "\n",
        "*Note: These examples don't have a biological meaning, they are just there as an example in order to throw data on the screen! Please adjust accordingly to your interests*"
      ]
    },
    {
      "cell_type": "code",
      "metadata": {
        "id": "vhPkc2z_sQQm"
      },
      "source": [
        "r = get_url(f\"{WEBSITE_API}/uniprotkb/stream?query=(gene:MTM1)&fields=mass,reviewed,length,cc_catalytic_activity,annotation_score\")\n",
        "data = r.json()\n",
        "\n",
        "print(len(data[\"results\"]), data[\"results\"][0])"
      ],
      "execution_count": null,
      "outputs": []
    },
    {
      "cell_type": "code",
      "metadata": {
        "id": "jOKwfR0Znayx"
      },
      "source": [
        "import matplotlib.pyplot as plt\n",
        "\n",
        "reviewed = [\"grey\" if \"unreviewed\" in entry[\"entryType\"] else \"gold\" for entry in data[\"results\"]]\n",
        "\n",
        "mass = [entry[\"sequence\"][\"molWeight\"] for entry in data[\"results\"]]\n",
        "plt.hist(mass, bins=100)\n",
        "plt.show()\n",
        "\n",
        "length = [entry[\"sequence\"][\"length\"] for entry in data[\"results\"]]\n",
        "plt.hist(length, bins=100)\n",
        "plt.show()\n",
        "\n",
        "n_cat = [len(entry.get(\"comments\", [])) for entry in data[\"results\"]]\n",
        "plt.hist(n_cat, bins=100)\n",
        "plt.show()\n",
        "\n",
        "score = [entry[\"annotationScore\"] for entry in data[\"results\"]]\n",
        "plt.hist(score, bins=100)\n",
        "plt.show()"
      ],
      "execution_count": null,
      "outputs": []
    },
    {
      "cell_type": "code",
      "metadata": {
        "id": "ZumZ2-zgrOUf"
      },
      "source": [
        "plt.scatter(length, mass, alpha=0.3)\n",
        "plt.xlabel(\"length (aa)\")\n",
        "plt.ylabel(\"mass (Da)\")\n",
        "plt.show()\n",
        "\n",
        "plt.scatter(length, n_cat, c=reviewed, alpha=0.3)\n",
        "plt.xlabel(\"length (aa)\")\n",
        "plt.ylabel(\"# catalytic activity comments\")\n",
        "plt.show()\n",
        "\n",
        "plt.scatter(score, n_cat, c=reviewed, alpha=0.3)\n",
        "plt.xlabel(\"annotation score\")\n",
        "plt.ylabel(\"# catalytic activity comments\")\n",
        "plt.show()"
      ],
      "execution_count": null,
      "outputs": []
    }
  ]
}